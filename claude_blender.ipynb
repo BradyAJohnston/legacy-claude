{
 "cells": [
  {
   "cell_type": "code",
   "execution_count": null,
   "metadata": {},
   "outputs": [],
   "source": [
    "!python claude_setup.py"
   ]
  }
 ],
 "metadata": {
  "kernelspec": {
   "display_name": "blender_3.6.2",
   "language": "python",
   "name": "blender_3.6.2"
  }
 },
 "nbformat": 4,
 "nbformat_minor": 2
}
